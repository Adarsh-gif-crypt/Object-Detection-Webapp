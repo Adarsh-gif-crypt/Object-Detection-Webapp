{
 "cells": [
  {
   "cell_type": "code",
   "execution_count": 2,
   "id": "26f2ca22",
   "metadata": {},
   "outputs": [
    {
     "name": "stdout",
     "output_type": "stream",
     "text": [
      "Collecting matplotlib==3.1.3\n",
      "  Downloading matplotlib-3.1.3-cp38-cp38-win_amd64.whl (9.1 MB)\n",
      "     ---------------------------------------- 9.1/9.1 MB 9.8 MB/s eta 0:00:00\n",
      "Requirement already satisfied: cycler>=0.10 in d:\\ds\\object detection\\ai\\lib\\site-packages (from matplotlib==3.1.3) (0.11.0)\n",
      "Requirement already satisfied: python-dateutil>=2.1 in d:\\ds\\object detection\\ai\\lib\\site-packages (from matplotlib==3.1.3) (2.8.2)\n",
      "Requirement already satisfied: numpy>=1.11 in d:\\ds\\object detection\\ai\\lib\\site-packages (from matplotlib==3.1.3) (1.22.3)\n",
      "Requirement already satisfied: kiwisolver>=1.0.1 in d:\\ds\\object detection\\ai\\lib\\site-packages (from matplotlib==3.1.3) (1.4.2)\n",
      "Requirement already satisfied: pyparsing!=2.0.4,!=2.1.2,!=2.1.6,>=2.0.1 in d:\\ds\\object detection\\ai\\lib\\site-packages (from matplotlib==3.1.3) (3.0.8)\n",
      "Requirement already satisfied: six>=1.5 in d:\\ds\\object detection\\ai\\lib\\site-packages (from python-dateutil>=2.1->matplotlib==3.1.3) (1.16.0)\n",
      "Installing collected packages: matplotlib\n",
      "  Attempting uninstall: matplotlib\n",
      "    Found existing installation: matplotlib 3.5.1\n",
      "    Uninstalling matplotlib-3.5.1:\n",
      "      Successfully uninstalled matplotlib-3.5.1\n",
      "Successfully installed matplotlib-3.1.3\n"
     ]
    }
   ],
   "source": [
    "!pip install matplotlib==3.1.3"
   ]
  },
  {
   "cell_type": "code",
   "execution_count": 3,
   "id": "21aad79f",
   "metadata": {},
   "outputs": [
    {
     "name": "stdout",
     "output_type": "stream",
     "text": [
      "Collecting matplotlib-inline\n",
      "  Using cached matplotlib_inline-0.1.3-py3-none-any.whl (8.2 kB)\n",
      "Collecting traitlets\n",
      "  Using cached traitlets-5.1.1-py3-none-any.whl (102 kB)\n",
      "Installing collected packages: traitlets, matplotlib-inline\n",
      "Successfully installed matplotlib-inline-0.1.3 traitlets-5.1.1\n"
     ]
    }
   ],
   "source": [
    "!pip install matplotlib-inline"
   ]
  },
  {
   "cell_type": "code",
   "execution_count": 5,
   "id": "6f76e856",
   "metadata": {},
   "outputs": [
    {
     "name": "stdout",
     "output_type": "stream",
     "text": [
      "Collecting IPython\n",
      "  Using cached ipython-8.2.0-py3-none-any.whl (750 kB)\n",
      "Requirement already satisfied: colorama in d:\\ds\\object detection\\ai\\lib\\site-packages (from IPython) (0.4.4)\n",
      "Collecting backcall\n",
      "  Using cached backcall-0.2.0-py2.py3-none-any.whl (11 kB)\n",
      "Requirement already satisfied: matplotlib-inline in d:\\ds\\object detection\\ai\\lib\\site-packages (from IPython) (0.1.3)\n",
      "Requirement already satisfied: traitlets>=5 in d:\\ds\\object detection\\ai\\lib\\site-packages (from IPython) (5.1.1)\n",
      "Collecting stack-data\n",
      "  Using cached stack_data-0.2.0-py3-none-any.whl (21 kB)\n",
      "Collecting pickleshare\n",
      "  Using cached pickleshare-0.7.5-py2.py3-none-any.whl (6.9 kB)\n",
      "Collecting pygments>=2.4.0\n",
      "  Using cached Pygments-2.11.2-py3-none-any.whl (1.1 MB)\n",
      "Requirement already satisfied: setuptools>=18.5 in d:\\ds\\object detection\\ai\\lib\\site-packages (from IPython) (60.10.0)\n",
      "Collecting prompt-toolkit!=3.0.0,!=3.0.1,<3.1.0,>=2.0.0\n",
      "  Using cached prompt_toolkit-3.0.29-py3-none-any.whl (381 kB)\n",
      "Collecting jedi>=0.16\n",
      "  Using cached jedi-0.18.1-py2.py3-none-any.whl (1.6 MB)\n",
      "Collecting decorator\n",
      "  Using cached decorator-5.1.1-py3-none-any.whl (9.1 kB)\n",
      "Collecting parso<0.9.0,>=0.8.0\n",
      "  Using cached parso-0.8.3-py2.py3-none-any.whl (100 kB)\n",
      "Collecting wcwidth\n",
      "  Using cached wcwidth-0.2.5-py2.py3-none-any.whl (30 kB)\n",
      "Collecting asttokens\n",
      "  Using cached asttokens-2.0.5-py2.py3-none-any.whl (20 kB)\n",
      "Collecting pure-eval\n",
      "  Using cached pure_eval-0.2.2-py3-none-any.whl (11 kB)\n",
      "Collecting executing\n",
      "  Using cached executing-0.8.3-py2.py3-none-any.whl (16 kB)\n",
      "Requirement already satisfied: six in d:\\ds\\object detection\\ai\\lib\\site-packages (from asttokens->stack-data->IPython) (1.16.0)\n",
      "Installing collected packages: wcwidth, pure-eval, pickleshare, executing, backcall, pygments, prompt-toolkit, parso, decorator, asttokens, stack-data, jedi, IPython\n",
      "Successfully installed IPython-8.2.0 asttokens-2.0.5 backcall-0.2.0 decorator-5.1.1 executing-0.8.3 jedi-0.18.1 parso-0.8.3 pickleshare-0.7.5 prompt-toolkit-3.0.29 pure-eval-0.2.2 pygments-2.11.2 stack-data-0.2.0 wcwidth-0.2.5\n"
     ]
    }
   ],
   "source": [
    "!pip install IPython"
   ]
  },
  {
   "cell_type": "code",
   "execution_count": 4,
   "id": "00941078",
   "metadata": {},
   "outputs": [
    {
     "name": "stderr",
     "output_type": "stream",
     "text": [
      "\u001b[34m\u001b[1mdetect: \u001b[0mweights=yolov5s.pt, source=./Images/Picture1.jpeg, data=data\\coco128.yaml, imgsz=[640, 640], conf_thres=0.25, iou_thres=0.45, max_det=1000, device=, view_img=False, save_txt=False, save_conf=False, save_crop=False, nosave=False, classes=None, agnostic_nms=False, augment=False, visualize=False, update=False, project=runs\\detect, name=exp, exist_ok=False, line_thickness=3, hide_labels=False, hide_conf=False, half=False, dnn=False\n",
      "\u001b[31m\u001b[1mrequirements:\u001b[0m matplotlib>=3.2.2 not found and is required by YOLOv5, attempting auto-update...\n",
      "ERROR: Invalid requirement: \"'matplotlib\"\n",
      "\u001b[31m\u001b[1mrequirements:\u001b[0m Command 'pip install 'matplotlib>=3.2.2'' returned non-zero exit status 1.\n",
      "YOLOv5  2022-4-17 torch 1.11.0+cpu CPU\n",
      "\n",
      "Fusing layers... \n",
      "YOLOv5s summary: 213 layers, 7225885 parameters, 0 gradients\n",
      "image 1/1 D:\\DS\\Object Detection\\Images\\Picture1.jpeg: 640x288 3 persons, 1 dog, Done. (0.142s)\n",
      "Speed: 1.0ms pre-process, 141.6ms inference, 2.0ms NMS per image at shape (1, 3, 640, 640)\n",
      "Results saved to \u001b[1mruns\\detect\\exp2\u001b[0m\n"
     ]
    }
   ],
   "source": [
    "!python detect.py --source ./Images/Picture1.jpeg"
   ]
  },
  {
   "cell_type": "code",
   "execution_count": 6,
   "id": "7a4ae432",
   "metadata": {},
   "outputs": [
    {
     "name": "stdout",
     "output_type": "stream",
     "text": [
      "Requirement already satisfied: opencv-python in d:\\ds\\object detection\\ai\\lib\\site-packages (4.5.5.64)\n",
      "Requirement already satisfied: numpy>=1.14.5 in d:\\ds\\object detection\\ai\\lib\\site-packages (from opencv-python) (1.22.3)\n"
     ]
    }
   ],
   "source": [
    "!pip install opencv-python"
   ]
  },
  {
   "cell_type": "code",
   "execution_count": 8,
   "id": "137e5d3f",
   "metadata": {},
   "outputs": [
    {
     "name": "stderr",
     "output_type": "stream",
     "text": [
      "\u001b[34m\u001b[1mdetect: \u001b[0mweights=yolov5s.pt, source=0, data=data\\coco128.yaml, imgsz=[640, 640], conf_thres=0.25, iou_thres=0.45, max_det=1000, device=, view_img=False, save_txt=False, save_conf=False, save_crop=False, nosave=False, classes=None, agnostic_nms=False, augment=False, visualize=False, update=False, project=runs\\detect, name=exp, exist_ok=False, line_thickness=3, hide_labels=False, hide_conf=False, half=False, dnn=False\n",
      "\u001b[31m\u001b[1mrequirements:\u001b[0m matplotlib>=3.2.2 not found and is required by YOLOv5, attempting auto-update...\n",
      "ERROR: Invalid requirement: \"'matplotlib\"\n",
      "\u001b[31m\u001b[1mrequirements:\u001b[0m Command 'pip install 'matplotlib>=3.2.2'' returned non-zero exit status 1.\n",
      "YOLOv5  2022-4-17 torch 1.11.0+cpu CPU\n",
      "\n",
      "Fusing layers... \n",
      "YOLOv5s summary: 213 layers, 7225885 parameters, 0 gradients\n",
      "1/1: 0...  Success (inf frames 640x480 at 30.00 FPS)\n",
      "\n",
      "0: 480x640 1 person, Done. (0.223s)\n",
      "0: 480x640 1 person, Done. (0.238s)\n",
      "0: 480x640 1 person, Done. (0.218s)\n",
      "0: 480x640 1 person, Done. (0.241s)\n",
      "0: 480x640 1 person, Done. (0.245s)\n",
      "0: 480x640 1 person, Done. (0.245s)\n",
      "0: 480x640 1 person, Done. (0.250s)\n",
      "0: 480x640 1 person, Done. (0.245s)\n",
      "0: 480x640 1 person, Done. (0.243s)\n",
      "0: 480x640 1 person, Done. (0.251s)\n",
      "0: 480x640 1 person, Done. (0.241s)\n",
      "0: 480x640 1 person, Done. (0.236s)\n",
      "0: 480x640 1 person, Done. (0.228s)\n",
      "0: 480x640 1 person, Done. (0.239s)\n",
      "0: 480x640 1 person, Done. (0.235s)\n",
      "0: 480x640 1 person, Done. (0.232s)\n",
      "0: 480x640 1 person, Done. (0.241s)\n",
      "0: 480x640 1 person, Done. (0.244s)\n",
      "0: 480x640 1 person, Done. (0.227s)\n",
      "0: 480x640 1 person, Done. (0.227s)\n",
      "0: 480x640 1 person, Done. (0.245s)\n",
      "0: 480x640 1 person, Done. (0.234s)\n",
      "0: 480x640 1 person, Done. (0.238s)\n",
      "0: 480x640 1 person, Done. (0.230s)\n",
      "0: 480x640 1 person, Done. (0.249s)\n",
      "0: 480x640 1 person, Done. (0.232s)\n",
      "0: 480x640 1 person, Done. (0.247s)\n",
      "0: 480x640 1 person, Done. (0.229s)\n",
      "0: 480x640 Done. (0.246s)\n",
      "0: 480x640 Done. (0.242s)\n",
      "0: 480x640 1 person, 1 frisbee, Done. (0.243s)\n",
      "0: 480x640 2 persons, 1 dog, 1 frisbee, 1 sports ball, Done. (0.234s)\n",
      "0: 480x640 1 person, Done. (0.242s)\n",
      "0: 480x640 1 person, Done. (0.238s)\n",
      "0: 480x640 2 persons, Done. (0.230s)\n",
      "0: 480x640 1 person, 1 tie, Done. (0.240s)\n",
      "0: 480x640 1 person, Done. (0.248s)\n",
      "0: 480x640 1 person, Done. (0.247s)\n",
      "0: 480x640 1 person, Done. (0.236s)\n",
      "0: 480x640 1 person, Done. (0.238s)\n",
      "0: 480x640 1 person, 1 bottle, 1 toothbrush, Done. (0.251s)\n",
      "0: 480x640 2 persons, Done. (0.243s)\n",
      "0: 480x640 1 person, 1 tie, 1 bottle, Done. (0.261s)\n",
      "0: 480x640 2 persons, 1 bottle, Done. (0.236s)\n",
      "0: 480x640 2 persons, 1 bottle, Done. (0.232s)\n",
      "0: 480x640 3 persons, 1 bottle, Done. (0.238s)\n",
      "0: 480x640 2 persons, 1 bottle, Done. (0.246s)\n",
      "0: 480x640 2 persons, 1 tie, 1 bottle, Done. (0.248s)\n",
      "0: 480x640 2 persons, 1 tie, 1 bottle, Done. (0.240s)\n",
      "0: 480x640 2 persons, 1 bottle, Done. (0.248s)\n",
      "0: 480x640 2 persons, 1 tie, Done. (0.240s)\n",
      "0: 480x640 2 persons, 1 tie, Done. (0.242s)\n",
      "0: 480x640 2 persons, 1 tie, Done. (0.242s)\n",
      "0: 480x640 2 persons, 1 tie, Done. (0.248s)\n",
      "0: 480x640 2 persons, 1 tie, Done. (0.243s)\n",
      "0: 480x640 2 persons, 1 tie, 1 bottle, Done. (0.250s)\n",
      "0: 480x640 2 persons, 1 tie, Done. (0.241s)\n",
      "0: 480x640 2 persons, 1 tie, Done. (0.230s)\n",
      "0: 480x640 2 persons, 1 tie, Done. (0.232s)\n",
      "0: 480x640 2 persons, Done. (0.225s)\n",
      "0: 480x640 2 persons, Done. (0.245s)\n",
      "0: 480x640 1 person, 1 toilet, Done. (0.237s)\n",
      "0: 480x640 Done. (0.243s)\n",
      "0: 480x640 1 person, Done. (0.255s)\n",
      "0: 480x640 2 persons, Done. (0.243s)\n",
      "0: 480x640 1 person, 1 cat, Done. (0.241s)\n",
      "0: 480x640 Done. (0.247s)\n",
      "0: 480x640 1 person, Done. (0.259s)\n",
      "0: 480x640 1 person, Done. (0.254s)\n",
      "0: 480x640 1 person, 1 toilet, Done. (0.256s)\n",
      "0: 480x640 1 person, Done. (0.240s)\n",
      "0: 480x640 1 person, Done. (0.251s)\n",
      "0: 480x640 1 person, 1 toilet, Done. (0.240s)\n",
      "0: 480x640 1 person, Done. (0.249s)\n",
      "Speed: 0.8ms pre-process, 241.2ms inference, 1.6ms NMS per image at shape (1, 3, 640, 640)\n",
      "Results saved to \u001b[1mruns\\detect\\exp4\u001b[0m\n"
     ]
    }
   ],
   "source": [
    "!python detect.py --source 0"
   ]
  },
  {
   "cell_type": "code",
   "execution_count": null,
   "id": "b77292e0",
   "metadata": {},
   "outputs": [],
   "source": []
  }
 ],
 "metadata": {
  "kernelspec": {
   "display_name": "ai",
   "language": "python",
   "name": "ai"
  },
  "language_info": {
   "codemirror_mode": {
    "name": "ipython",
    "version": 3
   },
   "file_extension": ".py",
   "mimetype": "text/x-python",
   "name": "python",
   "nbconvert_exporter": "python",
   "pygments_lexer": "ipython3",
   "version": "3.10.2"
  }
 },
 "nbformat": 4,
 "nbformat_minor": 5
}
